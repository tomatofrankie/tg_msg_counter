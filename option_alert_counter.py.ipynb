{
 "cells": [
  {
   "cell_type": "code",
   "execution_count": 3,
   "id": "17676a0b",
   "metadata": {},
   "outputs": [
    {
     "name": "stdout",
     "output_type": "stream",
     "text": [
      "Client Created\n"
     ]
    }
   ],
   "source": [
    "# DON'T RUN THIS BLOCK AGAIN\n",
    "\n",
    "import configparser\n",
    "import json\n",
    "from datetime import datetime\n",
    "from telethon import TelegramClient\n",
    "from telethon.errors import SessionPasswordNeededError\n",
    "\n",
    "# Reading Configs\n",
    "config = configparser.ConfigParser()\n",
    "config.read(\"config.ini\")\n",
    "\n",
    "# Setting configuration values\n",
    "api_id = config['Telegram']['api_id']\n",
    "api_hash = config['Telegram']['api_hash']\n",
    "\n",
    "api_hash = str(api_hash)\n",
    "\n",
    "phone = config['Telegram']['phone']\n",
    "username = config['Telegram']['username']\n",
    "\n",
    "# Create the client and connect\n",
    "client = TelegramClient(username, api_id, api_hash)\n",
    "await client.start()\n",
    "print(\"Client Created\")"
   ]
  },
  {
   "cell_type": "code",
   "execution_count": 4,
   "id": "938ffa7b",
   "metadata": {},
   "outputs": [
    {
     "name": "stderr",
     "output_type": "stream",
     "text": [
      "/var/folders/ym/67x0srsx2ln9vy4qtlvtdv500000gn/T/ipykernel_18315/2990546721.py:4: RuntimeWarning: coroutine 'UserMethods.is_user_authorized' was never awaited\n",
      "  if not client.is_user_authorized():\n",
      "RuntimeWarning: Enable tracemalloc to get the object allocation traceback\n"
     ]
    }
   ],
   "source": [
    "# DON'T RUN THIS BLOCK AGAIN\n",
    "\n",
    "# Ensure you're authorized\n",
    "if not client.is_user_authorized():\n",
    "    client.send_code_request(phone)\n",
    "    try:\n",
    "        client.sign_in(phone, input('Enter the code: '))\n",
    "    except SessionPasswordNeededError:\n",
    "        client.sign_in(password=input('Password: '))\n",
    "\n",
    "from telethon.tl.types import PeerChannel\n",
    "\n",
    "# user_input_channel = input(\"enter entity(telegram URL or entity id):\")\n",
    "user_input_channel = '1001546061018'\n",
    "\n",
    "if user_input_channel.isdigit():\n",
    "    entity = PeerChannel(-int(user_input_channel))\n",
    "else:\n",
    "    entity = user_input_channel\n",
    "\n",
    "await client.connect()\n",
    "my_channel = await client.get_entity(entity)"
   ]
  },
  {
   "cell_type": "code",
   "execution_count": 5,
   "id": "fb7a8362",
   "metadata": {},
   "outputs": [
    {
     "name": "stdout",
     "output_type": "stream",
     "text": [
      "Total Messages: 300\n"
     ]
    }
   ],
   "source": [
    "# Getting Channel messages\n",
    "from telethon.tl.functions.messages import GetHistoryRequest\n",
    "offset_id = 0\n",
    "limit = 100\n",
    "all_messages = []\n",
    "total_messages = 0\n",
    "total_count_limit = 300\n",
    "\n",
    "while True:\n",
    "#     print(\"Current Offset ID is:\", offset_id, \"; Total Messages:\", total_messages)\n",
    "    history = await client(GetHistoryRequest(\n",
    "        peer=my_channel,\n",
    "        offset_id=offset_id,\n",
    "        offset_date=datetime.now(),\n",
    "        add_offset=0,\n",
    "        limit=limit,\n",
    "        max_id=0,\n",
    "        min_id=0,\n",
    "        hash=0\n",
    "    ))\n",
    "    if not history.messages:\n",
    "        break\n",
    "    messages = history.messages\n",
    "    for message in messages:\n",
    "        all_messages.append(message.to_dict())\n",
    "    offset_id = messages[len(messages) - 1].id\n",
    "    total_messages = len(all_messages)\n",
    "    if total_count_limit != 0 and total_messages >= total_count_limit:\n",
    "        break\n",
    "print(\"Total Messages:\", total_messages)"
   ]
  },
  {
   "cell_type": "code",
   "execution_count": 8,
   "id": "64a00b12",
   "metadata": {},
   "outputs": [
    {
     "name": "stdout",
     "output_type": "stream",
     "text": [
      "Option alert of 2022-07-11 :\n",
      "\u001b[1mDue 2022-07-15 :\u001b[0m\n",
      "Number of LONG CALL: 13\n",
      "Number of LONG PUT: 27\n",
      "Number of SHORT CALL: 11\n",
      "Number of SHORT PUT: 15\n",
      "Net CALL: 2\n",
      "Net PUT: 12\n",
      "Total number of alerts: 66\n",
      "\u001b[1mDue 2022-07-22 :\u001b[0m\n",
      "Number of LONG CALL: 2\n",
      "Number of LONG PUT: 3\n",
      "Number of SHORT CALL: 2\n",
      "Number of SHORT PUT: 0\n",
      "Net CALL: 0\n",
      "Net PUT: 3\n",
      "Total number of alerts: 7\n"
     ]
    }
   ],
   "source": [
    "a_long_call = 0\n",
    "a_long_put = 0\n",
    "a_short_call = 0\n",
    "a_short_put = 0\n",
    "b_long_call = 0\n",
    "b_long_put = 0\n",
    "b_short_call = 0\n",
    "b_short_put = 0\n",
    "iteration = 1\n",
    "due_a_object = 0\n",
    "due_b_object = 0\n",
    "\n",
    "date_now = datetime(2022, 7, 11)\n",
    "date = date_now.strftime('%Y-%m-%d')\n",
    "\n",
    "\n",
    "for item in all_messages:\n",
    "    content = item['message']\n",
    "    \n",
    "    due_index = content.index('到期日:') + 5\n",
    "    if iteration == 1:\n",
    "        due_a = content[due_index:due_index + 10]\n",
    "    if iteration >= 1 and due_a < content[due_index:due_index + 10]:\n",
    "        due_b = content[due_index:due_index + 10]\n",
    "        due_b_object = datetime.fromisoformat(due_b)\n",
    "    iteration += 1\n",
    "    \n",
    "    buy_index = content.index('成交日期') + 5\n",
    "    buy_date = content[buy_index:buy_index + 10]\n",
    "    datetime_object = datetime.fromisoformat(buy_date)\n",
    "    \n",
    "    due_date = content[due_index:due_index + 10]\n",
    "    due_date = datetime.fromisoformat(due_date)\n",
    "    \n",
    "    \n",
    "    if datetime_object >= date_now:\n",
    "        if due_b_object != due_date:\n",
    "            if 'LONG CALL' in content:\n",
    "                a_long_call += 1\n",
    "            if 'LONG PUT' in content:\n",
    "                a_long_put += 1\n",
    "            if 'SHORT CALL' in content:\n",
    "                a_short_call += 1\n",
    "            if 'SHORT PUT' in content:\n",
    "                a_short_put += 1\n",
    "                \n",
    "        if due_b_object == due_date:\n",
    "            if 'LONG CALL' in content:\n",
    "                b_long_call += 1\n",
    "            if 'LONG PUT' in content:\n",
    "                b_long_put += 1\n",
    "            if 'SHORT CALL' in content:\n",
    "                b_short_call += 1\n",
    "            if 'SHORT PUT' in content:\n",
    "                b_short_put += 1\n",
    "                \n",
    "                \n",
    "print('Option alert of', date,':')\n",
    "print('\\033[1mDue',due_a,':\\033[0m')\n",
    "print('Number of LONG CALL:', a_long_call)\n",
    "print('Number of LONG PUT:', a_long_put)\n",
    "print('Number of SHORT CALL:', a_short_call)\n",
    "print('Number of SHORT PUT:', a_short_put)\n",
    "print('Net CALL:', a_long_call - a_short_call)\n",
    "print('Net PUT:', a_long_put - a_short_put)\n",
    "print('Total number of alerts:', a_long_call + a_long_put + a_short_call + a_short_put)\n",
    "print('\\033[1mDue',due_b,':\\033[0m')\n",
    "print('Number of LONG CALL:', b_long_call)\n",
    "print('Number of LONG PUT:', b_long_put)\n",
    "print('Number of SHORT CALL:', b_short_call)\n",
    "print('Number of SHORT PUT:', b_short_put)\n",
    "print('Net CALL:', b_long_call - b_short_call)\n",
    "print('Net PUT:', b_long_put - b_short_put)\n",
    "print('Total number of alerts:', b_long_call + b_long_put + b_short_call + b_short_put)"
   ]
  },
  {
   "cell_type": "code",
   "execution_count": 9,
   "id": "665b9f7f",
   "metadata": {},
   "outputs": [
    {
     "name": "stdout",
     "output_type": "stream",
     "text": [
      "#BYND\n",
      "SHORT PUT \n",
      "行權價:$45.00\n",
      "正股股價:$31.37\n",
      "\n",
      "到期日: 2022-07-15\n",
      "張數:138\n",
      "未平倉張數:1103\n",
      "成交額USD:$202170\n",
      "成交價:$14.65\n",
      "成交:AT_BID\n",
      "成交日期:2022-07-07 | 成交時間: 14:15:56 \n",
      "\n",
      "詳情:Beyond Meat Option Alert: Jul 15 $45 Puts at the Bid: 138 @ $14.65 vs 1103 OI; Earnings 8/4 After Close [est] Ref=$31.37\n"
     ]
    }
   ],
   "source": [
    "print(content)"
   ]
  }
 ],
 "metadata": {
  "kernelspec": {
   "display_name": "Python 3 (ipykernel)",
   "language": "python",
   "name": "python3"
  },
  "language_info": {
   "codemirror_mode": {
    "name": "ipython",
    "version": 3
   },
   "file_extension": ".py",
   "mimetype": "text/x-python",
   "name": "python",
   "nbconvert_exporter": "python",
   "pygments_lexer": "ipython3",
   "version": "3.9.7"
  }
 },
 "nbformat": 4,
 "nbformat_minor": 5
}
