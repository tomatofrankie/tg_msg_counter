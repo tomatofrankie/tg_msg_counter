{
 "cells": [
  {
   "cell_type": "code",
   "execution_count": 18,
   "id": "17676a0b",
   "metadata": {},
   "outputs": [
    {
     "name": "stdout",
     "output_type": "stream",
     "text": [
      "Client Created\n"
     ]
    }
   ],
   "source": [
    "# DON'T RUN THIS BLOCK AGAIN\n",
    "\n",
    "import configparser\n",
    "import json\n",
    "from datetime import datetime\n",
    "from telethon import TelegramClient\n",
    "from telethon.errors import SessionPasswordNeededError\n",
    "\n",
    "# Reading Configs\n",
    "config = configparser.ConfigParser()\n",
    "config.read(\"config.ini\")\n",
    "\n",
    "# Setting configuration values\n",
    "api_id = config['Telegram']['api_id']\n",
    "api_hash = config['Telegram']['api_hash']\n",
    "\n",
    "api_hash = str(api_hash)\n",
    "\n",
    "phone = config['Telegram']['phone']\n",
    "username = config['Telegram']['username']\n",
    "\n",
    "# Create the client and connect\n",
    "client = TelegramClient(username, api_id, api_hash)\n",
    "await client.start()\n",
    "print(\"Client Created\")"
   ]
  },
  {
   "cell_type": "code",
   "execution_count": 19,
   "id": "938ffa7b",
   "metadata": {},
   "outputs": [
    {
     "name": "stderr",
     "output_type": "stream",
     "text": [
      "/var/folders/ym/67x0srsx2ln9vy4qtlvtdv500000gn/T/ipykernel_46100/2990546721.py:4: RuntimeWarning: coroutine 'UserMethods.is_user_authorized' was never awaited\n",
      "  if not client.is_user_authorized():\n",
      "RuntimeWarning: Enable tracemalloc to get the object allocation traceback\n"
     ]
    }
   ],
   "source": [
    "# DON'T RUN THIS BLOCK AGAIN\n",
    "\n",
    "# Ensure you're authorized\n",
    "if not client.is_user_authorized():\n",
    "    client.send_code_request(phone)\n",
    "    try:\n",
    "        client.sign_in(phone, input('Enter the code: '))\n",
    "    except SessionPasswordNeededError:\n",
    "        client.sign_in(password=input('Password: '))\n",
    "\n",
    "from telethon.tl.types import PeerChannel\n",
    "\n",
    "# user_input_channel = input(\"enter entity(telegram URL or entity id):\")\n",
    "user_input_channel = '1001546061018'\n",
    "\n",
    "if user_input_channel.isdigit():\n",
    "    entity = PeerChannel(-int(user_input_channel))\n",
    "else:\n",
    "    entity = user_input_channel\n",
    "\n",
    "await client.connect()\n",
    "my_channel = await client.get_entity(entity)"
   ]
  },
  {
   "cell_type": "code",
   "execution_count": 149,
   "id": "64a00b12",
   "metadata": {},
   "outputs": [
    {
     "name": "stdout",
     "output_type": "stream",
     "text": [
      "0.17647058823529413\n",
      "Option alert of 2022-07-15 :\n",
      "\n",
      "\u001b[1mDue 2022-07-22 :\u001b[0m\n",
      "Number of LONG CALL: 32\n",
      "Number of LONG PUT: 18\n",
      "Number of SHORT CALL: 16\n",
      "Number of SHORT PUT: 12\n",
      "Net CALL: 16\n",
      "Net PUT: 6\n",
      "Number of OTM LONG CALL: 20\n",
      "Number of OTM LONG PUT: 14\n"
     ]
    }
   ],
   "source": [
    "# Getting Channel messages\n",
    "from telethon.tl.functions.messages import GetHistoryRequest\n",
    "import datetime\n",
    "offset_id = 0\n",
    "limit = 100\n",
    "all_messages = []\n",
    "total_messages = 0\n",
    "total_count_limit = 300\n",
    "long_call = 0\n",
    "otm_call = 0\n",
    "long_put = 0\n",
    "otm_put = 0\n",
    "short_call = 0\n",
    "short_put = 0\n",
    "iteration = 1\n",
    "due_a_object = 0\n",
    "due_b_object = 0\n",
    "date_now = datetime.datetime(2022, 7, 15)\n",
    "date = date_now.strftime('%Y-%m-%d')\n",
    "\n",
    "\n",
    "def next_weekday(d, weekday):\n",
    "    days_ahead = weekday - d.weekday()\n",
    "    if days_ahead <= 0: # Target day already happened this week\n",
    "        days_ahead += 7\n",
    "    return d + datetime.timedelta(days_ahead)\n",
    "\n",
    "\n",
    "while True:\n",
    "#     print(\"Current Offset ID is:\", offset_id, \"; Total Messages:\", total_messages)\n",
    "    history = await client(GetHistoryRequest(\n",
    "        peer=my_channel,\n",
    "        offset_id=offset_id,\n",
    "        offset_date=date_now + datetime.timedelta(1),\n",
    "        add_offset=0,\n",
    "        limit=limit,\n",
    "        max_id=0,\n",
    "        min_id=0,\n",
    "        hash=0\n",
    "    ))\n",
    "    if not history.messages:\n",
    "        break\n",
    "    messages = history.messages\n",
    "    for message in messages:\n",
    "        all_messages.append(message.to_dict())\n",
    "    offset_id = messages[len(messages) - 1].id\n",
    "    total_messages = len(all_messages)\n",
    "    if total_count_limit != 0 and total_messages >= total_count_limit:\n",
    "        break\n",
    "# print(\"Total Messages:\", total_messages)\n",
    "\n",
    "\n",
    "for item in all_messages:\n",
    "    content = item['message']\n",
    "    buy_index = content.index('成交日期') + 5\n",
    "    buy_date = content[buy_index:buy_index + 10]\n",
    "    buy_object = datetime.datetime.fromisoformat(buy_date)\n",
    "    if buy_object == date_now:\n",
    "        due_index = content.index('到期日:') + 5\n",
    "        due_date = content[due_index:due_index + 10]\n",
    "        due_object = datetime.datetime.fromisoformat(due_date)\n",
    "        next_fri = next_weekday(date_now, 4)\n",
    "        due = next_fri\n",
    "\n",
    "        strike_index = content.index('行權價') + 5\n",
    "        strike = float(content[strike_index:strike_index + 5])\n",
    "        price_index = content.index('正股股價') + 6\n",
    "        price = float(content[price_index:price_index + 5])\n",
    "\n",
    "        if due == due_object:\n",
    "            if 'LONG CALL' in content:\n",
    "                long_call += 1\n",
    "                if price < strike:\n",
    "                    otm_call += 1\n",
    "            if 'LONG PUT' in content:\n",
    "                long_put += 1\n",
    "                if price > strike:\n",
    "                    otm_put += 1\n",
    "            if 'SHORT CALL' in content:\n",
    "                short_call += 1\n",
    "            if 'SHORT PUT' in content:\n",
    "                short_put += 1\n",
    "\n",
    "# Let Call be 1 and Put be -1\n",
    "score = (otm_call - otm_put)/(otm_call + otm_put)\n",
    "print(score)\n",
    "                \n",
    "print('Option alert of', date,':')\n",
    "print('\\n\\033[1mDue',due.strftime('%Y-%m-%d'),':\\033[0m')\n",
    "print('Number of LONG CALL:', long_call)\n",
    "print('Number of LONG PUT:', long_put)\n",
    "print('Number of SHORT CALL:', short_call)\n",
    "print('Number of SHORT PUT:', short_put)\n",
    "print('Net CALL:', long_call - short_call)\n",
    "print('Net PUT:', long_put - short_put)\n",
    "print('Number of OTM LONG CALL:', otm_call)\n",
    "print('Number of OTM LONG PUT:', otm_put)\n"
   ]
  },
  {
   "cell_type": "code",
   "execution_count": 101,
   "id": "b0670b7c",
   "metadata": {},
   "outputs": [
    {
     "data": {
      "text/plain": [
       "pandas.core.indexes.base.Index"
      ]
     },
     "execution_count": 101,
     "metadata": {},
     "output_type": "execute_result"
    }
   ],
   "source": [
    "# Find correlation between option alert and change in the next day\n",
    "from pandas_datareader.data import DataReader\n",
    "\n",
    "df = DataReader('spy', data_source='yahoo', start=start, end=datetime.datetime.now())\n",
    "close = df.filter(['Close'])\n",
    "close.index = close.index.strftime('%Y-%m-%d')\n",
    "type(close.index)"
   ]
  },
  {
   "cell_type": "code",
   "execution_count": 150,
   "id": "7bca54fb",
   "metadata": {},
   "outputs": [
    {
     "data": {
      "text/plain": [
       "Close   -3.179993\n",
       "dtype: float64"
      ]
     },
     "execution_count": 150,
     "metadata": {},
     "output_type": "execute_result"
    }
   ],
   "source": [
    "if date_now.weekday() != 4:\n",
    "    next_day = date_now + datetime.timedelta(1)\n",
    "else:\n",
    "    next_day = date_now + datetime.timedelta(3)\n",
    "next_day = next_day.strftime('%Y-%m-%d')\n",
    "change = close.loc[next_day] - close.loc[date]\n",
    "change"
   ]
  },
  {
   "cell_type": "code",
   "execution_count": null,
   "id": "af472d5a",
   "metadata": {},
   "outputs": [],
   "source": [
    "import pandas as pd\n",
    "\n",
    "\n",
    "if date_now.weekday() != 0:\n",
    "    end_date = date_now - datetime.timedelta(1)\n",
    "else:\n",
    "    end_date = date_now - datetime.timedelta(3)\n",
    "end_date = date_now.strftime('%Y-%m-%d')"
   ]
  },
  {
   "cell_type": "code",
   "execution_count": 175,
   "id": "6f238e8c",
   "metadata": {},
   "outputs": [
    {
     "data": {
      "text/plain": [
       "str"
      ]
     },
     "execution_count": 175,
     "metadata": {},
     "output_type": "execute_result"
    }
   ],
   "source": [
    "index = close.index[0]"
   ]
  },
  {
   "cell_type": "code",
   "execution_count": 178,
   "id": "537817e5",
   "metadata": {},
   "outputs": [
    {
     "data": {
      "text/plain": [
       "'2022-07-18'"
      ]
     },
     "execution_count": 178,
     "metadata": {},
     "output_type": "execute_result"
    }
   ],
   "source": [
    "change_list = []\n",
    "start = '2018-01-01'\n",
    "date_start = datetime.datetime(2018, 1, 1)\n",
    "\n",
    "\n",
    "for i in range(len(close) - 1):\n",
    "    change = close.iat[i + 1,0] - close.iloc[i,0]\n",
    "    change_list.append(change)\n",
    "    \n",
    "    \n",
    "    \n",
    "    history = await client(GetHistoryRequest(\n",
    "        peer=my_channel,\n",
    "        offset_id=offset_id,\n",
    "        offset_date=date_now + datetime.timedelta(1),\n",
    "        add_offset=0,\n",
    "        limit=limit,\n",
    "        max_id=0,\n",
    "        min_id=0,\n",
    "        hash=0\n",
    "    ))\n",
    "    if not history.messages:\n",
    "        break\n",
    "    messages = history.messages\n",
    "    for message in messages:\n",
    "        all_messages.append(message.to_dict())\n",
    "    offset_id = messages[len(messages) - 1].id\n",
    "    total_messages = len(all_messages)\n",
    "    if total_count_limit != 0 and total_messages >= total_count_limit:\n",
    "        break\n",
    "\n",
    "        \n",
    "    date = close.index[i]\n",
    "    \n",
    "    for item in all_messages:\n",
    "    content = item['message']\n",
    "    buy_index = content.index('成交日期') + 5\n",
    "    buy_date = content[buy_index:buy_index + 10]\n",
    "    buy_object = datetime.datetime.fromisoformat(buy_date)\n",
    "    if buy_object == date_now:\n",
    "        due_index = content.index('到期日:') + 5\n",
    "        due_date = content[due_index:due_index + 10]\n",
    "        due_object = datetime.datetime.fromisoformat(due_date)\n",
    "        next_fri = next_weekday(date_now, 4)\n",
    "        due = next_fri\n",
    "\n",
    "        strike_index = content.index('行權價') + 5\n",
    "        strike = float(content[strike_index:strike_index + 5])\n",
    "        price_index = content.index('正股股價') + 6\n",
    "        price = float(content[price_index:price_index + 5])\n",
    "\n",
    "        if due == due_object:\n",
    "            if 'LONG CALL' in content:\n",
    "                long_call += 1\n",
    "                if price < strike:\n",
    "                    otm_call += 1\n",
    "            if 'LONG PUT' in content:\n",
    "                long_put += 1\n",
    "                if price > strike:\n",
    "                    otm_put += 1\n",
    "            if 'SHORT CALL' in content:\n",
    "                short_call += 1\n",
    "            if 'SHORT PUT' in content:\n",
    "                short_put += 1\n",
    "\n",
    "    # Let Call be 1 and Put be -1\n",
    "    score = (otm_call - otm_put)/(otm_call + otm_put)\n",
    "    "
   ]
  }
 ],
 "metadata": {
  "kernelspec": {
   "display_name": "Python 3 (ipykernel)",
   "language": "python",
   "name": "python3"
  },
  "language_info": {
   "codemirror_mode": {
    "name": "ipython",
    "version": 3
   },
   "file_extension": ".py",
   "mimetype": "text/x-python",
   "name": "python",
   "nbconvert_exporter": "python",
   "pygments_lexer": "ipython3",
   "version": "3.9.7"
  }
 },
 "nbformat": 4,
 "nbformat_minor": 5
}
